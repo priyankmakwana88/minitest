{
 "cells": [
  {
   "cell_type": "code",
   "execution_count": 1,
   "metadata": {},
   "outputs": [
    {
     "name": "stdout",
     "output_type": "stream",
     "text": [
      "Enter the training details (press q when done):\n",
      "\n",
      "\n",
      "Enter 1st feature (NUMERIC VALUE) : 12\n",
      "Enter 2nd feature (NUMERIC VALUE) : 12\n",
      "Enter target name (NOT MORE THAN 2 Categories) : 23\n",
      "\n",
      "Enter 1st feature (NUMERIC VALUE) : 23\n",
      "Enter 2nd feature (NUMERIC VALUE) : 55\n",
      "Enter target name (NOT MORE THAN 2 Categories) : t\n",
      "\n",
      "Enter 1st feature (NUMERIC VALUE) : q\n",
      "\n",
      "\n",
      "Test Values : \n",
      "\n",
      "Feature_1 : 77\n",
      "Feature_2 : 112\n"
     ]
    },
    {
     "data": {
      "text/plain": [
       "<Figure size 640x480 with 1 Axes>"
      ]
     },
     "metadata": {},
     "output_type": "display_data"
    }
   ],
   "source": [
    "from math import sqrt\n",
    "import matplotlib.pyplot as plt\n",
    "\n",
    "#TAKING INPUT\n",
    "feature_1=[]\n",
    "feature_2=[]\n",
    "target=[]\n",
    "print(\"Enter the training details (press q when done):\\n\")\n",
    "\n",
    "while 1:\n",
    "    ip_fet_1=input(\"\\nEnter 1st feature (NUMERIC VALUE) : \")\n",
    "    if ip_fet_1 == 'q':\n",
    "        break\n",
    "    ip_fet_2=input(\"Enter 2nd feature (NUMERIC VALUE) : \")\n",
    "    if ip_fet_2 == 'q':\n",
    "        break\n",
    "    ip_tar=input(\"Enter target name (NOT MORE THAN 2 Categories) : \")\n",
    "    if target == 'q':\n",
    "        break\n",
    "    feature_1.append(ip_fet_1)\n",
    "    feature_2.append(ip_fet_2)\n",
    "    target.append(ip_tar)\n",
    "\n",
    "#print(feature_1)\n",
    "#print(feature_2)\n",
    "print(\"\\n\\nTest Values : \\n\")\n",
    "pred_f_1=input(\"Feature_1 : \")\n",
    "pred_f_2=input(\"Feature_2 : \")\n",
    "\n",
    "test_data=[pred_f_1,pred_f_2]\n",
    "\n",
    "plt.xlabel(\"Feature 1\")\n",
    "plt.ylabel(\"Feature 2\")\n",
    "\n",
    "#category 1\n",
    "c1=target[0]\n",
    "j=0\n",
    "c1f1=[]\n",
    "c1f2=[]\n",
    "c2f1=[]\n",
    "c2f2=[]\n",
    "for i in target:\n",
    "    if i==c1:\n",
    "        c1f1.append(feature_1[j])\n",
    "        c1f2.append(feature_2[j])\n",
    "    else:\n",
    "        c2=i\n",
    "        c2f1.append(feature_1[j])\n",
    "        c2f2.append(feature_2[j])\n",
    "    j=j+1\n",
    "plt.scatter(c1f1,c1f2,color='g',label=c1)\n",
    "plt.scatter(c2f1,c2f2,color='r',label=c2)\n",
    "plt.scatter(test_data[0],test_data[1],color='y',label='Test Point')\n",
    "\n",
    "plt.legend()\n",
    "plt.show()\n",
    "\n",
    "#VALUUE OF K\n",
    "k=input(\"Enter K : \")\n",
    "x=pred_f_1\n",
    "y=pred_f_2\n",
    "\n",
    "#lent=[500,500,500]\n",
    "for i in len(feature_1):\n",
    "    x1=feature_1[i]\n",
    "    y1=feature_2[i]\n",
    "    c_len=sqrt((x-x1)**2 + (y-y1)**2)\n",
    "    len.append(c_len)\n",
    "    \n",
    "\n",
    "\n",
    "\n",
    "\n",
    "    \n"
   ]
  }
 ],
 "metadata": {
  "kernelspec": {
   "display_name": "Python 3",
   "language": "python",
   "name": "python3"
  },
  "language_info": {
   "codemirror_mode": {
    "name": "ipython",
    "version": 3
   },
   "file_extension": ".py",
   "mimetype": "text/x-python",
   "name": "python",
   "nbconvert_exporter": "python",
   "pygments_lexer": "ipython3",
   "version": "3.5.2"
  }
 },
 "nbformat": 4,
 "nbformat_minor": 2
}
