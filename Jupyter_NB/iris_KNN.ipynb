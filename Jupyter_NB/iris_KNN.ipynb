{
 "cells": [
  {
   "cell_type": "code",
   "execution_count": 42,
   "metadata": {},
   "outputs": [
    {
     "data": {
      "text/plain": [
       "array([0, 1, 2])"
      ]
     },
     "execution_count": 42,
     "metadata": {},
     "output_type": "execute_result"
    }
   ],
   "source": [
    "#import pandas  as pd\n",
    "import numpy as np\n",
    "#from sklearn import tree\n",
    "from sklearn.datasets import load_iris\n",
    "from sklearn.neighbors import KNeighborsClassifier\n",
    "\n",
    "#extracting datasets\n",
    "iris=load_iris()\n",
    "x=[0,50,100]\n",
    "train_data=np.delete(iris.data,x,axis=0)\n",
    "train_target=np.delete(iris.target,x)\n",
    "\n",
    "test_data=iris.data[x]\n",
    "test_target=iris.target[x]\n",
    "\n",
    "clf=KNeighborsClassifier(n_neighbors=3)\n",
    "\n",
    "trained=clf.fit(train_data,train_target)\n",
    "\n",
    "pred=trained.predict(test_data)\n",
    "pred\n"
   ]
  },
  {
   "cell_type": "code",
   "execution_count": null,
   "metadata": {},
   "outputs": [],
   "source": []
  }
 ],
 "metadata": {
  "kernelspec": {
   "display_name": "Python 3",
   "language": "python",
   "name": "python3"
  },
  "language_info": {
   "codemirror_mode": {
    "name": "ipython",
    "version": 3
   },
   "file_extension": ".py",
   "mimetype": "text/x-python",
   "name": "python",
   "nbconvert_exporter": "python",
   "pygments_lexer": "ipython3",
   "version": "3.5.2"
  }
 },
 "nbformat": 4,
 "nbformat_minor": 2
}
